{
 "cells": [
  {
   "cell_type": "markdown",
   "metadata": {},
   "source": [
    "# Capstone Project - Battle of the Neighborhoods in Hyderabad \n",
    "### Applied Data Science Capstone offered  by IBM/Coursera, project created by **Sandeep Kumar Vengala**"
   ]
  },
  {
   "cell_type": "markdown",
   "metadata": {},
   "source": [
    "## Table of contents\n",
    "* [Introduction: Business Problem](#introduction)\n",
    "* [Data](#data)\n",
    "* [Methodology](#methodology)\n",
    "* [Analysis](#analysis)\n",
    "* [Results and Discussion](#results)\n",
    "* [Conclusion](#conclusion)"
   ]
  },
  {
   "cell_type": "markdown",
   "metadata": {},
   "source": [
    "## Introduction: Business Problem <a name=\"introduction\"></a>"
   ]
  },
  {
   "cell_type": "markdown",
   "metadata": {},
   "source": [
    "In this project we will try to find an optimal location for opening a restaurant. Specifically, this report will be targeted to stakeholders interested in opening any **food-joint/restaurant** in **Hyderabad**, Telangana, India.\n",
    "\n",
    "Since there are lots of restaurants in Hyderabad we will try to detect **locations that are not already crowded with restaurants**. We are also particularly interested in **neighborhoods which are similar to the best neighborhoods in terms of amenities**. We would also prefer locations **as close to city center as possible**, assuming that first two conditions are met.\n",
    "\n",
    "We will use our data science technical expertise to generate a few most promising neighborhoods based on this criteria. Advantages of each area will then be clearly expressed so that best possible final location can be chosen by stakeholders."
   ]
  },
  {
   "cell_type": "markdown",
   "metadata": {},
   "source": [
    "## Data <a name=\"data\"></a>"
   ]
  },
  {
   "cell_type": "markdown",
   "metadata": {},
   "source": [
    "Based on definition of our problem, factors that will influence our decision are:\n",
    "* number of existing restaurants in the neighborhood (any type of restaurant)\n",
    "* variety of restaurants in the neighborhood, if any\n",
    "* distance of neighborhood from city center\n",
    "\n",
    "Neighborhoods have been defined based on names of post offices as given in the form of a table in the website : http://pincode.india-server.com/cities/hyderabad/  \n",
    "\n",
    "Following data sources will be needed to extract/generate the required information:\n",
    "* names of all neighborhoods (post office names) will be extracted from the above mentioned website using **Pandas package in python**\n",
    "* approximate addresses of centers of these neighborhoods will be obtained using **GeoPy Geocoder package in python**\n",
    "* number of restaurants and their type and location in every neighborhood will be obtained using **Foursquare API**"
   ]
  },
  {
   "cell_type": "code",
   "execution_count": null,
   "metadata": {},
   "outputs": [],
   "source": []
  }
 ],
 "metadata": {
  "kernelspec": {
   "display_name": "Python 3",
   "language": "python",
   "name": "python3"
  },
  "language_info": {
   "codemirror_mode": {
    "name": "ipython",
    "version": 3
   },
   "file_extension": ".py",
   "mimetype": "text/x-python",
   "name": "python",
   "nbconvert_exporter": "python",
   "pygments_lexer": "ipython3",
   "version": "3.7.0"
  }
 },
 "nbformat": 4,
 "nbformat_minor": 2
}
